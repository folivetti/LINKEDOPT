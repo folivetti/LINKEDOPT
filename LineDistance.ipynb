{
 "metadata": {
  "name": "",
  "signature": "sha256:90558b3f76b3866b70273a3bafc33ee002b81710bc05c3aa3d85a73cef2c330a"
 },
 "nbformat": 3,
 "nbformat_minor": 0,
 "worksheets": [
  {
   "cells": [
    {
     "cell_type": "markdown",
     "metadata": {},
     "source": [
      "Some sample codes can be found at another [notebook](http://nbviewer.ipython.org/github/folivetti/LINKEDOPT/blob/master/LineDistanceSrc.ipynb)."
     ]
    },
    {
     "cell_type": "markdown",
     "metadata": {},
     "source": [
      "Line Distance\n",
      "==============\n",
      "\n",
      "The Line Distance was first proposed in [deFranca][1] and measures the likelihood of two points being located in the basis of attraction of the same local optima. It does so by approximating the curve through a line and checking the approximation error.\n",
      "\n",
      "Given a multimodal function *f(x)* and two points, *x1* and *x2*, de Line Distance *LD(x1,x2)* can be calculated as:\n",
      "\n",
      "$$ LD(x1,x2) = \\|P_{proj}\\| $$\n",
      "\n",
      "with\n",
      "\n",
      "$$P_{proj} = \\overline{P_1P_m} - (\\overline{P_1P_m} \\cdot v)v$$\n",
      "\n",
      "and\n",
      "\n",
      "$$\\begin{align}\n",
      "P_1 &= [x1, f(x1)] \\\\\n",
      "v &= \\frac{[x2, f(x2)] - P_1}{\\|[x2, f(x2)] - P_1\\|} \\\\\n",
      "P_m &= [\\frac{x1+x2}{2}, f(\\frac{x1+x2}{2})] \\\\\n",
      "\\overline{P_1P_m} &= [\\frac{x2-x1}{2}, f(\\frac{x1+x2}{2})-f(x1)]\n",
      "\\end{align}$$\n",
      "\n",
      "as the projection of the middle point between *[x1, f(x1)]* and *[x2, f(x2)]* to the line segment defined by those two points.\n",
      "\n",
      "\n",
      "[1]: http://dl.acm.org/citation.cfm?doid=1068009.1068057  \"deFranca\""
     ]
    },
    {
     "cell_type": "markdown",
     "metadata": {},
     "source": [
      "We can simplify and generalize this equation to a d-dimensional vector. Let us define:\n",
      "\n",
      "$$\\begin{align}\n",
      "\\overline{P_1P_m} &= [\\frac{x_1+x_2}{2}-x_1, y_m-y_1] = [\\frac{x_2-x_1}{2}, y_m-y_1] \\\\\n",
      "\\overline{P_1P_2} &= [x_2-x_1, y_2-y_1] \\\\\n",
      "\\|\\overline{P_1P_2}\\| &= \\sqrt{\\sum_{i}{(x_2-x_1)^{2}} + (y_2-y_1)^{2}} \\\\\n",
      "\\end{align}$$\n",
      "\n",
      "$LD(P_1,P_2)$ is then:\n",
      "\n",
      "$$\\begin{align}\n",
      "LD(P_1,P_2) &= \\|\\overline{P_1P_m} - (\\overline{P_1P_m} \\cdot \\overline{P_1P_2})\\frac{\\overline{P_1P_2}}{\\|\\overline{P_1P_2}\\|^{2}}\\| \\\\\n",
      "LD(P_1,P_2) &= \\|\\frac{\\|\\overline{P_1P_2}\\|^{2}\\overline{P_1P_m} - (\\overline{P_1P_m} \\cdot \\overline{P_1P_2})\\overline{P_1P_2}}{\\|\\overline{P_1P_2}\\|^{2}}\\| \\\\\n",
      "\\end{align}$$"
     ]
    },
    {
     "cell_type": "markdown",
     "metadata": {},
     "source": [
      "Given that\n",
      "\n",
      "$$(\\overline{P_1P_m} \\cdot \\overline{P_1P_2}) = \\frac{1}{2}\\sum_{i}{(x_2-x_1)^{2}} + (y_m-y_1)(y_2-y_1)$$\n",
      "\n",
      "The $LD(P_1,P_2)$ becomes\n",
      "\n",
      "$$LD(P_1,P_2) = \\|\\frac{\\sum_{i}{(x_2-x_1)^{2}}(\\overline{P_1P_m} - \\frac{1}{2}\\overline{P_1P_2}) + (y_2-y_1)( (y_2-y_1)\\overline{P_1P_m} - (y_m-y_1)\\overline{P_1P_2} )}{\\|\\overline{P_1P_2}\\|^{2}}\\|$$\n",
      "\n",
      "By developing the first term of the sum we have\n",
      "\n",
      "$$\\begin{align}\n",
      "& \\sum_{i}{(x_2-x_1)^{2}}[\\frac{x_2-x_1}{2}-\\frac{x_2-x_1}{2}, (y_m-y_1)-\\frac{1}{2}(y_2-y_1)] \\\\\n",
      "&= \\sum_{i}{(x_2-x_1)^{2}}[0, y_m - \\frac{y_2-y_1}{2}] \\\\\n",
      "\\end{align}$$\n",
      "\n",
      "The second term becomes\n",
      "\n",
      "$$\\begin{align}\n",
      "& (y_2-y_1)[(y_2-y_1)\\frac{x_2-x_1}{2} - (y_m-y_1)(x_2-x_1), (y_2-y_1)(y_m-y_1) - (y_m-y_1)(y_2-y_1)] \\\\\n",
      "&= (y_2-y_1)[(x_2-x_1)(\\frac{y_1+y_2}{2} - y_m), 0]\n",
      "\\end{align}$$"
     ]
    },
    {
     "cell_type": "markdown",
     "metadata": {},
     "source": [
      "And summing the terms we have:\n",
      "$$\\begin{align}\n",
      "LD(P_1,P_2) &= \\frac{\\|[(x_2-x_1)(y_2-y_1)(\\frac{y_1+y_2}{2} - y_m), \\sum_{i}{(x_2-x_1)^{2}}(\\frac{y_1+y_2}{2} - y_m)]\\|}{\\|\\overline{P_1P_2}\\|^{2}} \\\\\n",
      "LD(P_1,P_2) &= \\sqrt{\\frac{(y_2-y_1)^{2}(\\frac{y_1+y_2}{2} - y_m)^{2}\\sum_{i}{(x_2-x_1)^2} + (\\sum_{i}{(x_2-x_1)^{2}})^{2}(\\frac{y_1+y_2}{2} - y_m)^2}{(\\sum_{i}{(x_2-x_1)^2)} + (y_2-y_1)^2)^2}} \\\\\n",
      "LD(P_1,P_2) &= \\sqrt{\\frac{((\\frac{y_1+y_2}{2} - y_m)^{2}\\sum_{i}{(x_2-x_1)^2})(\\sum_{i}{(x_2-x_1)^{2}} + (y_2-y_1)^{2})}{(\\sum_{i}{(x_2-x_1)^2)} + (y_2-y_1)^2)^2}} \\\\\n",
      "LD(P_1,P_2) &= \\sqrt{\\frac{((\\frac{y_1+y_2}{2} - y_m)^{2}\\sum_{i}{(x_2-x_1)^2})}{\\sum_{i}{(x_2-x_1)^2)} + (y_2-y_1)^2}} \\\\\n",
      "\\end{align}$$\n",
      "\n",
      "From this equation we can see that as two points get closer to each other onto the same basis of attraction, the objective-function curve can be approximated by a line and thus the distance becomes closer to zero."
     ]
    },
    {
     "cell_type": "markdown",
     "metadata": {},
     "source": [
      "**Hypothesis 1:** If two points *x1* e *x2* are located on the basis of attraction of the same local optima, scaling the function by a factor K will have an insignificant effect on *LD(x1,x2)*.\n",
      "\n",
      "**Proof:**\n",
      "\n",
      "From the Line Distance final equation:\n",
      "\n",
      "$$LD(P_1,P_2) = \\sqrt{\\frac{((\\frac{y_1+y_2}{2} - y_m)^{2}\\sum_{i}{(x_2-x_1)^2})}{\\sum_{i}{(x_2-x_1)^2)} + (y_2-y_1)^2}}$$\n",
      "\n",
      "If we scale the function by a factor K we have:\n",
      "\n",
      "$$\\begin{align}\n",
      "LD(P_1,P_2) &= \\sqrt{\\frac{K^{2}((\\frac{y_1+y_2}{2} - y_m)^{2}\\sum_{i}{(x_2-x_1)^2})}{\\sum_{i}{(x_2-x_1)^2)} + K^{2}(y_2-y_1)^2}} \\\\\n",
      "LD(P_1,P_2) &= \\sqrt{\\frac{K^{2}((\\frac{y_1+y_2}{2} - y_m)^{2}\\sum_{i}{(x_2-x_1)^2})}{ K^{2}(\\sum_{i}{(\\frac{x_2-x_1}{K})^2)} +(y_2-y_1)^2})} \\\\\n",
      "LD(P_1,P_2) &= \\sqrt{\\frac{((\\frac{y_1+y_2}{2} - y_m)^{2}\\sum_{i}{(x_2-x_1)^2})}{(\\sum_{i}{(\\frac{x_2-x_1}{K})^2)} +(y_2-y_1)^2})} \\\\\n",
      "\\end{align}$$\n",
      "\n",
      "In this situation, the expression $\\frac{x_2-x_1}{K}$ tends to zero as $K$ tends to infinity. So, this distance is bounded to a value as the objective-function is scaled to infinity. This allow us to simplify this measure while maintaining the closest points to a distance close to zero while amplifying the farthest points:\n",
      "\n",
      "$$LD(P_1,P_2) = \\sqrt{\\frac{((\\frac{y_1+y_2}{2} - y_m)^{2}\\sum_{i}{(x_2-x_1)^2})}{(y_2-y_1)^2}}$$\n",
      "\n",
      "Finally, we can work with the squared Line Distance that not only removes the square root from the calculation but also makes the distance always positive, with a value of $0$ whenever $x1=x2$. Also, an $\\epsilon$ should be included in the denominator to avoid a discontinuity whenever $y_2=y_1$.\n",
      "\n",
      "$$LDS(P_1,P_2) = \\frac{((\\frac{y_1+y_2}{2} - y_m)^{2}\\sum_{i}{(x_2-x_1)^2})}{(y_2-y_1)^2 + \\epsilon}$$"
     ]
    },
    {
     "cell_type": "markdown",
     "metadata": {},
     "source": [
      "### Local Optima\n",
      "\n",
      "The minimum value possible for this distance function is $0$ that is obtained whenever:\n",
      "\n",
      "- $x_2 = x_1$\n",
      "- $\\frac{y_1+y_2}{2} = y_m$\n",
      "- $(y_2-y_1)^2 \\to \\infty$ (like that's gonna happen)\n",
      "\n",
      "The first case is the expected solution in which both points are the same. \n",
      "\n",
      "The second is a situation that we should be aware of, if the $x_1$ and $x_2$ are located at different basis of attraction but,  the middle point intersects $(y_1+y_2)/2$, their distance will become $0$ even though they are not at the same basis. This could be alleviated by taking different middle points with different average weightings.\n",
      "\n",
      "The third case will only happens if the function can tend to inifinity."
     ]
    },
    {
     "cell_type": "markdown",
     "metadata": {},
     "source": [
      "In order to study the maximization of this function, let us fix a certain point $x_1$ and a random direction $d$ described by an unit vector. Let us define $x_2 = x_1 + \\alpha d$ with $0 < \\alpha < r$, and $r$ being a radius that encloses only one peak. Our goal is to find the value of $\\alpha$ that maximizes $LDS(x_1,x_2)$.\n",
      "\n",
      "$$LDS(P_1,P_2) = \\alpha^{2}\\frac{((\\frac{y_1+y_2}{2} - y_m)^{2}\\sum_{i}{d_i^2})}{(y_2-y_1)^2 + \\epsilon}$$\n",
      "\n",
      "As $d$ is an unit vector, then $\\sum_{i}{d_i^2}=1$:\n",
      "\n",
      "$$LDS(P_1,P_2) = \\alpha^{2}\\frac{((\\frac{y_1+y_2}{2} - y_m)^{2}}{(y_2-y_1)^2 + \\epsilon}$$\n",
      "\n",
      "From the definition of $LDS()$ we can assert that the maximum possible value is obtained when $y_2 - y_1$ is close to zero and $\\frac{y_1+y_2}{2} - y_m$ is maximized. Replacing $y_2$ with $y_1$ and taking the derivative, we have:\n",
      "\n",
      "$$\\frac{d y_1 - y_m}{d\\alpha} = 0$$\n",
      "\n",
      "$$y'_m = 0$$\n",
      "\n",
      "So, the maximum is obtained whenever $y'_m$ is a local optima."
     ]
    },
    {
     "cell_type": "code",
     "collapsed": false,
     "input": [],
     "language": "python",
     "metadata": {},
     "outputs": []
    }
   ],
   "metadata": {}
  }
 ]
}